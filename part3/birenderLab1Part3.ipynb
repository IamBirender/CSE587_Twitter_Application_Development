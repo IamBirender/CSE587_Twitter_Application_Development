{
 "cells": [
  {
   "cell_type": "markdown",
   "metadata": {},
   "source": [
    "# Lab 1 Part 3 - Twitter API Project\n",
    "\n",
    "### UB CSE 487 Data Intensive Computing\n",
    "Team member 1: Michael Brown (UBIT Name: mpbrown || UBIT number: 50158715)\n",
    "<br /> Team member 2: Birender Singh (UBIT Name: birender || UBIT number: 50288934) "
   ]
  },
  {
   "cell_type": "markdown",
   "metadata": {},
   "source": [
    "### Shiny App for Comparison and Analysis\n",
    "\n",
    "https://mpbrown.shinyapps.io/ub-cse487-Flu-Tweets-and-CDC/"
   ]
  },
  {
   "cell_type": "markdown",
   "metadata": {},
   "source": [
    "## Library Dependencies"
   ]
  },
  {
   "cell_type": "code",
   "execution_count": 2,
   "metadata": {},
   "outputs": [
    {
     "name": "stderr",
     "output_type": "stream",
     "text": [
      "Warning message:\n",
      "\"package 'twitteR' was built under R version 3.5.2\"Warning message:\n",
      "\"package 'keyring' was built under R version 3.5.2\"Warning message:\n",
      "\"package 'lubridate' was built under R version 3.5.2\"\n",
      "Attaching package: 'lubridate'\n",
      "\n",
      "The following object is masked from 'package:base':\n",
      "\n",
      "    date\n",
      "\n",
      "Warning message:\n",
      "\"package 'glue' was built under R version 3.5.2\"Warning message:\n",
      "\"package 'dplyr' was built under R version 3.5.2\"\n",
      "Attaching package: 'dplyr'\n",
      "\n",
      "The following object is masked from 'package:glue':\n",
      "\n",
      "    collapse\n",
      "\n",
      "The following objects are masked from 'package:lubridate':\n",
      "\n",
      "    intersect, setdiff, union\n",
      "\n",
      "The following objects are masked from 'package:twitteR':\n",
      "\n",
      "    id, location\n",
      "\n",
      "The following objects are masked from 'package:stats':\n",
      "\n",
      "    filter, lag\n",
      "\n",
      "The following objects are masked from 'package:base':\n",
      "\n",
      "    intersect, setdiff, setequal, union\n",
      "\n",
      "Warning message:\n",
      "\"package 'tidyr' was built under R version 3.5.2\"Warning message:\n",
      "\"package 'ggmap' was built under R version 3.5.2\"Loading required package: ggplot2\n",
      "Warning message:\n",
      "\"package 'ggplot2' was built under R version 3.5.2\"Google's Terms of Service: https://cloud.google.com/maps-platform/terms/.\n",
      "Please cite ggmap if you use it! See citation(\"ggmap\") for details.\n",
      "Warning message:\n",
      "\"package 'maptools' was built under R version 3.5.2\"Loading required package: sp\n",
      "Warning message:\n",
      "\"package 'sp' was built under R version 3.5.2\"Checking rgeos availability: TRUE\n",
      "Warning message:\n",
      "\"package 'maps' was built under R version 3.5.2\"Warning message:\n",
      "\"package 'usmap' was built under R version 3.5.2\""
     ]
    }
   ],
   "source": [
    "library(twitteR)\n",
    "library(keyring)\n",
    "\n",
    "library(lubridate)\n",
    "library(glue)\n",
    "library(dplyr)\n",
    "library(tidyr)\n",
    "\n",
    "library(ggmap)\n",
    "library(ggplot2)\n",
    "library(maptools)\n",
    "library(maps)\n",
    "library(usmap)"
   ]
  },
  {
   "cell_type": "markdown",
   "metadata": {},
   "source": [
    "## Pre-Data Collection - API Registration"
   ]
  },
  {
   "cell_type": "code",
   "execution_count": 6,
   "metadata": {},
   "outputs": [
    {
     "name": "stdout",
     "output_type": "stream",
     "text": [
      "[1] \"Using direct authentication\"\n"
     ]
    }
   ],
   "source": [
    "# Twitter API registration\n",
    "setup_twitter_oauth(\n",
    "  key_get(\"twitter_consumer_key\", keyring = \"mykeyring\"),\n",
    "  key_get(\"twitter_consumer_secret\", keyring = \"mykeyring\"),\n",
    "  key_get(\"twitter_access_token\", keyring = \"mykeyring\"),\n",
    "  key_get(\"twitter_access_secret\", keyring = \"mykeyring\")\n",
    ")\n",
    "\n",
    "# Google API registration\n",
    "register_google(key_get(\"GoogleAPI\", keyring = \"mykeyring\"))"
   ]
  },
  {
   "cell_type": "markdown",
   "metadata": {},
   "source": [
    "## Selecting Tweet Keywords\n",
    "\n",
    "We used the following keywords for the Twitter data collection. ***Note: in this lab, we are NOT interested in sentiment analysis. We are interested in sheer number of tweets*** on a topic that is associated with “flu” or a related term that you uniquely determine that will be important influencer."
   ]
  },
  {
   "cell_type": "code",
   "execution_count": 14,
   "metadata": {},
   "outputs": [],
   "source": [
    "# Set keywords\n",
    "# flu vaccine h1n1 tamiflu influenza headache lymph sinus\n",
    "keywords <- c(\"flu\",\"vaccine\",\"h1n1\",\"tamiflu\",\"influenza\",\"headache\",\"lymph\",\"sinus\")"
   ]
  },
  {
   "cell_type": "markdown",
   "metadata": {},
   "source": [
    "## Selecting Tweet Date Range"
   ]
  },
  {
   "cell_type": "code",
   "execution_count": null,
   "metadata": {},
   "outputs": [],
   "source": [
    "# Set date range\n",
    "# (for tweets on a single day, make startDate and endDate identical)\n",
    "startDate <- \"2019-03-03\"\n",
    "endDate <- \"2019-03-03\"\n",
    "dateRange <- seq(as.Date(startDate), as.Date(endDate), by=1)"
   ]
  },
  {
   "cell_type": "markdown",
   "metadata": {},
   "source": [
    "## Collecting Tweets to CSV files\n",
    "The loop below depends on us having previously set the **keywords** list as well as a **startDate** and an **endDate**. We decided to include the dates as option ***due to the limitations of the free standard Twitter API*** which only provides access to tweets from the last 7 days."
   ]
  },
  {
   "cell_type": "code",
   "execution_count": 15,
   "metadata": {},
   "outputs": [],
   "source": [
    "# Collect tweets for each keyword throughout date range\n",
    "for(day in as.list(dateRange)){\n",
    "  for(k in keywords){\n",
    "    # Check current Twitter API rate limit\n",
    "    myRateLimit <- getCurRateLimitInfo(c(\"search\"))\n",
    "    \n",
    "    # If limit has been reached, sleep until API reset time\n",
    "    if(myRateLimit$remaining < 1){\n",
    "      resetTime <- myRateLimit$reset\n",
    "      nowTime <- with_tz(Sys.time(), tz=\"UTC\")\n",
    "      sleepingTime <- as.numeric(resetTime-nowTime, units=\"secs\")\n",
    "      print(glue('Sleeping for ',{sleepingTime}))\n",
    "      Sys.sleep(as.numeric(resetTime-nowTime, units=\"secs\"))\n",
    "    }\n",
    "  \n",
    "    searchWord <- as.character(k)\n",
    "    \n",
    "    # Construct filename based on keyword\n",
    "    filename <- glue('tw-',{searchWord},'.csv')\n",
    "    \n",
    "    print(glue('Attemping search of ',{searchWord}, ' since ',as.character(day),' until ',as.character(day+1)))\n",
    "    \n",
    "    # Searches Twitter API for provided dates given searchWord, then strips any retweets, and converts to DF\n",
    "    dtweets <- twListToDF(strip_retweets(searchTwitter(searchWord, n=900, since=as.character(day), until = as.character(day+1), retryOnRateLimit = 450)))\n",
    "    \n",
    "    print(glue('Completed search of ',{searchWord}, ' with ',{nrow(dtweets)},' rows'))\n",
    "    \n",
    "    print(glue('Appending to ',{filename}))\n",
    "    if(!file.exists(filename)){\n",
    "      write.csv(dtweets, file=filename)\n",
    "    } else {\n",
    "      existingCSV <- read.csv(file = filename, stringsAsFactors = F)\n",
    "      existingCSV <- select(existingCSV, -c(\"X\"))\n",
    "      newCSV <- rbind(existingCSV, dtweets)\n",
    "      write.csv(newCSV, file=filename)\n",
    "    }\n",
    "  }\n",
    "}"
   ]
  },
  {
   "cell_type": "markdown",
   "metadata": {},
   "source": [
    "## Pre-Geocoding - Selecting Keywords to Geocode\n",
    "\n",
    "**IMPORTANT**\n",
    "Choose either selected subset of keywords or all keywords (will take much longer due to API calls)\n",
    "\n",
    "***Valid keywords:*** \n",
    "\n",
    "'flu' 'vaccine' 'h1n1' 'tamiflu' 'influenza' 'headache' 'lymph' 'sinus'"
   ]
  },
  {
   "cell_type": "code",
   "execution_count": null,
   "metadata": {},
   "outputs": [],
   "source": [
    "geocodeTheseKeywords <- c('flu')"
   ]
  },
  {
   "cell_type": "markdown",
   "metadata": {},
   "source": [
    "## Geocoding Tweets to U.S. states\n",
    "Since very few tweets themselves are location-tagged, we make the **assumption that the *location of collected tweets* is the same as the *location of the tweet authors.***"
   ]
  },
  {
   "cell_type": "code",
   "execution_count": 17,
   "metadata": {},
   "outputs": [],
   "source": [
    "for(k in geocodeTheseKeywords){\n",
    "  geocoded.users <- NULL\n",
    "  geocoded.users.nogeneric <- NULL\n",
    "  filteredCSV <- NULL\n",
    "  \n",
    "  # Read in raw tweets from 'tw-{k}.csv'\n",
    "  geoprep.data <- read.csv(glue('tw-',{k},'.csv'))\n",
    "  \n",
    "  # Drop all columns except for \"id\", \"text\", and \"screenName\" \n",
    "  geoprep.data <- select(geoprep.data, \"id\",\"text\",\"screenName\")\n",
    "  \n",
    "  # Rename \"id\" to \"tweetID\" to clarify\n",
    "  geoprep.data <- rename(geoprep.data, tweetID = id)\n",
    "  \n",
    "  # Remove any duplicate tweets based on \"tweetID\"\n",
    "  geoprep.data <- unique(geoprep.data, by = \"tweetID\")\n",
    "  \n",
    "  # --- Geocoding the tweet authors ---\n",
    "  \n",
    "  ## If keyword has already been geocoded, it skips this step and reads in 'geo-users-tw-{k}.csv' \n",
    "  if(!file.exists(glue('geo-users-tw-',{k},'.csv'))){\n",
    "    # Query Twitter API for data frame of user profile information\n",
    "    print(\"Attemping twitteR lookupUsers...\")\n",
    "    geoprep.users <- twListToDF(lookupUsers(as.character(geoprep.data$screenName), includeNA = FALSE))\n",
    "    \n",
    "    # Select only columns \"screenName\" and \"location\"\n",
    "    geoprep.users <- select(geoprep.users, screenName, location)\n",
    "    \n",
    "    # Select only users with a non-empty location listed and only keep columns 'screenName' and 'location'\n",
    "    geoprep.users <- subset(geoprep.users, location != \"\")\n",
    "    \n",
    "    # Query Google Maps API to geocode user locations\n",
    "    geoprep.users.locgeocoded <- geocode(geoprep.users$location)\n",
    "    \n",
    "    # Add latitude and longitude columns to geocoded.users\n",
    "    geocoded.users.latlng <- dplyr::mutate(geoprep.users, latitude = geoprep.users.locgeocoded$lat)\n",
    "    geocoded.users.latlng <- dplyr::mutate(geocoded.users.latlng, longitude = geoprep.users.locgeocoded$lon)\n",
    "    \n",
    "    # Save geocoded information for this keyword to 'geo-users-tw-{k}.csv'\n",
    "    write.csv(geocoded.users.latlng, file = glue('geo-users-tw-',{k},'.csv'))\n",
    "  } else {\n",
    "    ## If keyword had already been geocoded, it skips to this and reads in 'geo-users-tw-{k}.csv' \n",
    "    print(glue('Loading geo-users-',{k},'.csv'))\n",
    "    geocoded.users <- read.csv(glue('geo-users-tw-',{k},'.csv'))\n",
    "    \n",
    "    # Drops the extra column that gets added at the beginning\n",
    "    geocoded.users <- select(geocoded.users, -c(\"X\"))\n",
    "  }\n",
    "  \n",
    "  # --- File naming clarification ---\n",
    "  # geo-users-nogeneric-{keyword}.csv means that imprecise rows as defined belowed have been dropped\n",
    "  \n",
    "  if(!file.exists(glue('geo-users-nogeneric-',{k},'.csv'))){\n",
    "    \n",
    "    # Drop imprecise rows where geocode failed such as locations of \"sitting in grass\" or \"somewhere\"\n",
    "    geocoded.users.nogeneric <- drop_na(geocoded.users.latlng)\n",
    "    \n",
    "    # Drop imprecise rows where geocode returned merely the geographical center of the United States\n",
    "    geocoded.users.nogeneric <- geocoded.users.nogeneric[!(geocoded.users.nogeneric$latitude==37.0902400 & geocoded.users.nogeneric$longitude==-95.7128910),]\n",
    "    \n",
    "    write.csv(geocoded.users.nogeneric, file = glue('geo-users-nogeneric-',{k},'.csv'))\n",
    "    \n",
    "  } else {\n",
    "    \n",
    "    ## If keyword data had already been cleared of imprecise rows, it skips to this and reads in 'geo-users-nogeneric-{k}.csv' \n",
    "    print(glue('Loading geo-users-nogeneric-',{k},'.csv'))\n",
    "    geocoded.users.nogeneric <- read.csv(glue('geo-users-nogeneric-',{k},'.csv'))\n",
    "    \n",
    "    # Drops the extra column that gets added at the beginning\n",
    "    geocoded.users.nogeneric <- select(geocoded.users.nogeneric, -c(\"X\"))\n",
    "    \n",
    "  }\n",
    "  \n",
    "  # --- Reverse Geocoding ---\n",
    "  \n",
    "  if(!file.exists(glue('geo-filtered-',{k},'.csv'))){\n",
    "    \n",
    "    # Preparation\n",
    "    geocoded.state.attached <- geocoded.users.nogeneric\n",
    "    \n",
    "    # Create data frame for the listing of states as a result of reverse geocoding\n",
    "    statesToAttach <- data.frame(state=character(), stringsAsFactors=FALSE)\n",
    "    \n",
    "    # Makes sure i is initialized to 1\n",
    "    i <- 1\n",
    "    \n",
    "    # Query Google reverse-geocode API and save list (of lists) result to testrevgeo\n",
    "    for(i in seq(1, nrow(geocoded.users.nogeneric), 1)){\n",
    "      \n",
    "      # Query Google reverse-geocode API and save list (of lists) result to testrevgeo\n",
    "      testrevgeo <- revgeocode(c(geocoded.users.nogeneric[i,4], geocoded.users.nogeneric[i,3]), output=\"all\")\n",
    "      # Handle cases where testrevgeo is NA, will be filtered out later\n",
    "      if(is.na(testrevgeo)){\n",
    "        statesToAttach <- add_row(statesToAttach, state = NA)\n",
    "      } else {\n",
    "        testrevgeo.results.length <- length(testrevgeo$results)\n",
    "        # Handle any instances where the length is 1\n",
    "        if(testrevgeo.results.length != 1){\n",
    "          testrevgeo.results.length = testrevgeo.results.length - 1\n",
    "        }\n",
    "        \n",
    "        mystate <- NA\n",
    "        mystate <- tryCatch(\n",
    "          {\n",
    "            testrevgeo$results[[testrevgeo.results.length]]$address_components[[1]]$long_name\n",
    "          }, error = function(e) {\n",
    "            NA\n",
    "          }\n",
    "        )\n",
    "        # Add parsed state name to row in statesToAttach data frame \n",
    "        statesToAttach <- add_row(statesToAttach, state = mystate)\n",
    "      }\n",
    "      \n",
    "    }\n",
    "    \n",
    "    # Bind state names to geocoded.users.nogeneric\n",
    "    newCSV <- cbind(geocoded.users.nogeneric, state = statesToAttach$state)\n",
    "    \n",
    "    # Filter out non-US states\n",
    "    filteredCSV <- subset(newCSV, state %in% state.name)\n",
    "    \n",
    "    write.csv(filteredCSV, file=glue('geo-filtered-',{k},'.csv'))\n",
    "  } else {\n",
    "    print(glue('Loading geo-filtered-',{k},'.csv'))\n",
    "    filteredCSV <- read.csv(glue('geo-filtered-',{k},'.csv'))\n",
    "    filteredCSV <- select(filteredCSV, -c(\"X\"))\n",
    "  } \n",
    "  # Left outer join for filteredCSV and geoprep.data, join on screenName\n",
    "  # Attaches user's location data to unique tweets made by that user\n",
    "  uniqueGeoTweets <- merge(filteredCSV, geoprep.data, by = \"screenName\", all.x = TRUE)\n",
    "  \n",
    "  # Filters out any remaining duplicates\n",
    "  uniqueGeoTweets <- unique(uniqueGeoTweets, by = \"tweetID\")\n",
    "  write.csv(uniqueGeoTweets, file=glue('geo-unique-tweets-',{k},'.csv'))\n",
    "}\n",
    "\n",
    "# --- Final Collections for Keyword Tweets --- \n",
    "\n",
    "# geo-unique-tweets-{keyword}.csv now contains:\n",
    "#   - screenName of user who wrote Tweet with keyword in it\n",
    "#   - user profile's listed location\n",
    "#   - latitude based on Google geocoding of user's location\n",
    "#   - longitude based on Google geocoding of user's location\n",
    "#   - U.S. state name based on Google reverse geocoding of user's coordinates\n",
    "#   - unique Tweet ID from Twitter\n",
    "#   - text of Tweet"
   ]
  },
  {
   "cell_type": "markdown",
   "metadata": {},
   "source": [
    "## Plotting selected keyword Tweets per State\n",
    "###### Loop through selected keywords"
   ]
  },
  {
   "cell_type": "code",
   "execution_count": 3,
   "metadata": {},
   "outputs": [
    {
     "data": {},
     "metadata": {},
     "output_type": "display_data"
    },
    {
     "data": {
      "image/png": "[encoded data removed]",
      "text/plain": [
       "plot without title"
      ]
     },
     "metadata": {},
     "output_type": "display_data"
    }
   ],
   "source": [
    "stateTweetFullList <- NULL\n",
    "# Default option of plotting all keywords\n",
    "plotTheseKeywords <- keywords\n",
    "\n",
    "# Loop through selected keywords\n",
    "for(k in plotTheseKeywords){\n",
    "  if(is.null(stateTweetFullList)){\n",
    "    # Used to establish data frame structure\n",
    "    stateTweetFullList <- select(read.csv(glue('geo-unique-tweets-',{k},'.csv')), -c(\"X\"))\n",
    "  } else {\n",
    "    # Append to existing data frame structure for stateTweetFullList\n",
    "    uniqueCSV <- select(read.csv(glue('geo-unique-tweets-',{k},'.csv')), -c(\"X\"))\n",
    "    stateTweetFullList <- rbind(stateTweetFullList, uniqueCSV)\n",
    "  }\n",
    "}\n",
    "# Filter out any remaining duplicates\n",
    "stateTweetUniqueList <- unique(stateTweetFullList, by = \"tweetID\")\n",
    "\n",
    "# Count the total number of keyword tweets per state\n",
    "totalTweetsPerState <- count(stateTweetFullList, state)\n",
    "\n",
    "# Plot the total number of selected keyword tweets per state\n",
    "plot_usmap(regions = \"states\", data = totalTweetsPerState, values = \"n\", lines = \"black\")+\n",
    "  labs(title =\"Flu-related Keyword Tweets per State for week ending Mar 02, 2019\")+\n",
    "  scale_fill_continuous(low = \"white\", high = \"red\", name = \"Keyword Tweets\", label = scales::comma)+\n",
    "  theme(legend.position = \"right\")"
   ]
  },
  {
   "cell_type": "code",
   "execution_count": null,
   "metadata": {},
   "outputs": [],
   "source": []
  }
 ],
 "metadata": {
  "kernelspec": {
   "display_name": "R",
   "language": "R",
   "name": "ir"
  },
  "language_info": {
   "codemirror_mode": "r",
   "file_extension": ".r",
   "mimetype": "text/x-r-source",
   "name": "R",
   "pygments_lexer": "r",
   "version": "3.5.1"
  }
 },
 "nbformat": 4,
 "nbformat_minor": 2
}
